{
 "cells": [
  {
   "cell_type": "markdown",
   "metadata": {},
   "source": [
    "## Análises de Dados | E-commerce"
   ]
  },
  {
   "cell_type": "markdown",
   "metadata": {},
   "source": [
    "- Programação SQL\n",
    "- Detalhamento dos cenários para resolução de problemas\n",
    "- Pensamento lógico para questões diretivas"
   ]
  },
  {
   "cell_type": "code",
   "execution_count": 1,
   "metadata": {},
   "outputs": [],
   "source": [
    "from sqlalchemy import create_engine, text\n",
    "import pandas as pd"
   ]
  },
  {
   "cell_type": "code",
   "execution_count": null,
   "metadata": {},
   "outputs": [],
   "source": [
    "#engine = create_engine(\"sqlite:///ecommerce.db\", echo=False)\n",
    "#connection = engine.raw_connection()\n",
    "## Realiza a leitura de todos os arquivos csv e insere no banco de dados\n",
    "#for file in os.listdir():\n",
    "#     if file.endswith(\".csv\"):\n",
    "#            df = pd.read_csv(f\"{file}\", encoding='latin-1')\n",
    "#            table_name = file.split(\".\")[0]\n",
    "#            df.to_sql(table_name, connection, if_exists=\"replace\", index=False)\n",
    "#connection.close()"
   ]
  },
  {
   "cell_type": "markdown",
   "metadata": {},
   "source": []
  },
  {
   "cell_type": "code",
   "execution_count": null,
   "metadata": {},
   "outputs": [],
   "source": [
    "engine = create_engine(\"sqlite:///data/recovery_tools.db\", echo=False)\n",
    "connection = engine.connect()"
   ]
  },
  {
   "cell_type": "code",
   "execution_count": null,
   "metadata": {},
   "outputs": [],
   "source": []
  }
 ],
 "metadata": {
  "kernelspec": {
   "display_name": ".venv",
   "language": "python",
   "name": "python3"
  },
  "language_info": {
   "codemirror_mode": {
    "name": "ipython",
    "version": 3
   },
   "file_extension": ".py",
   "mimetype": "text/x-python",
   "name": "python",
   "nbconvert_exporter": "python",
   "pygments_lexer": "ipython3",
   "version": "3.12.2"
  }
 },
 "nbformat": 4,
 "nbformat_minor": 2
}
